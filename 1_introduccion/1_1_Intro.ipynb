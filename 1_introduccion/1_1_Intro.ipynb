{
 "cells": [
  {
   "cell_type": "markdown",
   "metadata": {},
   "source": [
    "# ¿Qué es necesario para programar en Python?\n",
    "\n",
    "Para poder programar necesitamos los siguientes componentes:\n",
    "\n",
    "* El lenguaje de programación\n",
    "\n",
    "* Un entorno de programación"
   ]
  },
  {
   "cell_type": "markdown",
   "metadata": {},
   "source": [
    "# Lenguaje de programación:\n",
    "<br>\n",
    "<left>\n",
    "<img src=\"./imgs/Operating_system_placement.png\"  alt=\"drawing\" width=\"10%\"/>\n",
    "</centeleftr>"
   ]
  },
  {
   "cell_type": "markdown",
   "metadata": {},
   "source": [
    "# ¿Qué es Python?"
   ]
  },
  {
   "cell_type": "markdown",
   "metadata": {},
   "source": [
    "- Python es un lenguaje de programación  interpretado. \n",
    "\n",
    "- Python es un lenguaje no tipado (no hay que definir el tipo de variable, las variables pueden cambiar de tipo)\n",
    "\n",
    "- En python todo es un objeto, de esto hablaremos más adelante"
   ]
  },
  {
   "cell_type": "markdown",
   "metadata": {},
   "source": [
    "# Estructura de Python\n",
    "<center>\n",
    "<img src=\"./imgs/scipy_ecosystem.png\"  alt=\"drawing\" width=\"75%\"/>\n",
    "</center>"
   ]
  }
 ],
 "metadata": {
  "kernelspec": {
   "display_name": "Python 3.9.13 ('venv': venv)",
   "language": "python",
   "name": "python3"
  },
  "language_info": {
   "name": "python",
   "version": "3.9.13"
  },
  "orig_nbformat": 4,
  "vscode": {
   "interpreter": {
    "hash": "22cb0f1f6b6fc0a1bc72875728e990faf4498df1611eccb1ac603d8c0e7d2ba6"
   }
  }
 },
 "nbformat": 4,
 "nbformat_minor": 2
}
