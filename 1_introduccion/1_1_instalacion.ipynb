{
 "cells": [
  {
   "cell_type": "markdown",
   "metadata": {},
   "source": [
    "# 1 Conda\n"
   ]
  },
  {
   "cell_type": "markdown",
   "metadata": {},
   "source": [
    "- Esta es una de las opciones más fáciles, se puede descargan desde [Anaconda](https://www.anaconda.com/distribution/).\n",
    "   \n",
    "<center>\n",
    "<img src=\"./imgs/conda_1.png\"  alt=\"drawing\" width=\"75%\"/>\n",
    "</center>\n",
    "\n",
    "- Los pasos a seguir después de descargar y ejecutar el archivo descargado, son:\n",
    "<center>\n",
    "<img src=\"./imgs/conda_install_1.png\"  alt=\"drawing\" width=\"30%\"/>\n",
    "<img src=\"./imgs/conda_install_2.png\"  alt=\"drawing\" width=\"30%\"/>\n",
    "<img src=\"./imgs/conda_install_3.png\"  alt=\"drawing\" width=\"30%\"/>\n",
    "</center>\n",
    "<center>\n",
    "<img src=\"./imgs/conda_install_4.png\"  alt=\"drawing\" width=\"30%\"/>\n",
    "<img src=\"./imgs/conda_install_5.png\"  alt=\"drawing\" width=\"30%\"/>\n",
    "<img src=\"./imgs/conda_install_6.png\"  alt=\"drawing\" width=\"30%\"/>\n",
    "</center>\n",
    "<center>\n",
    "<img src=\"./imgs/conda_install_7.png\"  alt=\"drawing\" width=\"45%\"/>\n",
    "<img src=\"./imgs/conda_install_8.png\"  alt=\"drawing\" width=\"45%\"/>\n",
    "</center>\n",
    "\n",
    "- Una vez que lo tenemos instalado, podemos ejecutarlo, y veremos algo así:\n",
    "<center>\n",
    "<img src=\"./imgs/conda_use_1.png\"  alt=\"drawing\" width=\"45%\"/>\n",
    "</center>\n",
    "\n",
    "<center>\n",
    "<img src=\"./imgs/conda_use_2.png\"  alt=\"drawing\" width=\"90%\"/>\n",
    "</center>"
   ]
  },
  {
   "cell_type": "markdown",
   "metadata": {},
   "source": [
    "# 2 Python"
   ]
  },
  {
   "cell_type": "markdown",
   "metadata": {},
   "source": [
    "- Desde Python Software Foundation [Python](https://www.python.org/downloads/).\n",
    "    \n",
    "<center>\n",
    "<img src=\"./imgs/python_1.png\"  alt=\"drawing\" width=\"75%\"/>\n",
    "</center>\n",
    "\n",
    "- Desde la Store de Windows [Python](https://www.microsoft.com/en-us/p/python-38/9mssztt1n39l?activetab=pivot:overviewtab).\n",
    "    \n",
    "<center>\n",
    "<img src=\"./imgs/python_2.png\"  alt=\"drawing\" width=\"75%\"/>\n",
    "</center>\n",
    "\n",
    "- En ambos casos pulsamos \"siguiente\" a todo hasta terminar la instalación."
   ]
  }
 ],
 "metadata": {
  "kernelspec": {
   "display_name": "Python 3.9.13 ('venv': venv)",
   "language": "python",
   "name": "python3"
  },
  "language_info": {
   "name": "python",
   "version": "3.9.13"
  },
  "orig_nbformat": 4,
  "vscode": {
   "interpreter": {
    "hash": "22cb0f1f6b6fc0a1bc72875728e990faf4498df1611eccb1ac603d8c0e7d2ba6"
   }
  }
 },
 "nbformat": 4,
 "nbformat_minor": 2
}
