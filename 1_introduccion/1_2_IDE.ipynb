{
 "cells": [
  {
   "cell_type": "markdown",
   "metadata": {},
   "source": [
    "# ENTORNO DE PROGRAMACIÓN"
   ]
  },
  {
   "cell_type": "markdown",
   "metadata": {},
   "source": [
    "## ¿Cómo es el entorno de programación de python?"
   ]
  },
  {
   "cell_type": "markdown",
   "metadata": {},
   "source": [
    "<center>\n",
    "<img src=\"./imgs/terminal_python.png\"  alt=\"drawing\" width=\"50%\"/>\n",
    "</center>"
   ]
  },
  {
   "cell_type": "markdown",
   "metadata": {},
   "source": [
    "## ¿Qué es un ide?\n",
    "- IDE son las siglas de Integrated Development Enviroment, es decir, donde vamos a programar. Por lo general tienen ayudar visuales para identificar las funciones, variables .....etc\n",
    "\n",
    "- En general se usan para programar de forma más sencilla\n",
    "\n",
    "- En este curso el IDE que usaremos será  [__GOOGLE COLAB__](https://colab.research.google.com/notebooks/basic_features_overview.ipynb#scrollTo=d4L9TOP9QSHn/) ya que nos permite programar en la nube sin tener que instalar nada en nuestro ordenador.\n",
    "\n",
    "\n",
    "- Otros IDE son:\n",
    "\n",
    "    - Anaconda (en realidad es más que un IDE ver notebook en anexo) \n",
    "\n",
    "    - Jypyter Labs\n",
    "    \n",
    "    - VScode\n",
    "    \n",
    "    pero existen muchos más.\n",
    "\n",
    "\n",
    "<center>\n",
    "<img src=\"./imgs/jupyter_lab_1.png\"  alt=\"drawing\" width=\"90%\"/>\n",
    "</center>"
   ]
  },
  {
   "cell_type": "markdown",
   "metadata": {},
   "source": [
    "### Aquí os dejamos unos cuantos IDEs.\n",
    "- Code\n",
    "<center>\n",
    "<img src=\"./imgs/code_1.png\"  alt=\"drawing\" width=\"90%\"/>\n",
    "</center>\n",
    "\n",
    "- Spyder\n",
    "<center>\n",
    "<img src=\"./imgs/spyder_1.png\"  alt=\"drawing\" width=\"90%\"/>\n",
    "</center>\n",
    "\n",
    "- Pycharm\n",
    "<center>\n",
    "<img src=\"./imgs/pycharm_1.png\"  alt=\"drawing\" width=\"90%\"/>\n",
    "</center>\n",
    "\n",
    "- Atom\n",
    "<center>\n",
    "<img src=\"./imgs/atom_1.png\"  alt=\"drawing\" width=\"90%\"/>\n",
    "</center>"
   ]
  }
 ],
 "metadata": {
  "kernelspec": {
   "display_name": "Python 3.9.13 ('venv': venv)",
   "language": "python",
   "name": "python3"
  },
  "language_info": {
   "name": "python",
   "version": "3.9.13"
  },
  "orig_nbformat": 4,
  "vscode": {
   "interpreter": {
    "hash": "22cb0f1f6b6fc0a1bc72875728e990faf4498df1611eccb1ac603d8c0e7d2ba6"
   }
  }
 },
 "nbformat": 4,
 "nbformat_minor": 2
}
