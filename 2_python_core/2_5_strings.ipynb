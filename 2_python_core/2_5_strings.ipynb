{
 "cells": [
  {
   "cell_type": "markdown",
   "metadata": {},
   "source": [
    "# Strings o Cadena de Caracteres"
   ]
  },
  {
   "cell_type": "markdown",
   "metadata": {},
   "source": [
    "* Se pueden definir con \" o con '\n",
    "\n",
    "* Con \"\"\" se pueden definir string de varias líneas, aunque este método se utiliza principalmente para documentar\n",
    "\n",
    "* Si dentro del string queremos poner comillas usamos el opuesto que fuera"
   ]
  },
  {
   "cell_type": "code",
   "execution_count": 1,
   "metadata": {},
   "outputs": [
    {
     "name": "stdout",
     "output_type": "stream",
     "text": [
      "hola\n",
      "hola\n",
      "hola 'u'\n",
      "hola \"u\"\n"
     ]
    }
   ],
   "source": [
    "print('hola')\n",
    "print(\"hola\")\n",
    "print(\"hola 'u'\")\n",
    "print('hola \"u\"')"
   ]
  },
  {
   "cell_type": "markdown",
   "metadata": {},
   "source": [
    "### Como dar formato a un string\n",
    "- El método más utilizado para dar formato son los llamados fstrings"
   ]
  },
  {
   "cell_type": "code",
   "execution_count": 3,
   "metadata": {},
   "outputs": [
    {
     "data": {
      "text/plain": [
       "'hola pepe'"
      ]
     },
     "execution_count": 3,
     "metadata": {},
     "output_type": "execute_result"
    }
   ],
   "source": [
    "nombre = input(\"Inserta tu nombre\")\n",
    "f\"hola {nombre}\" # evalua lo que pongamos entre llaves"
   ]
  },
  {
   "cell_type": "markdown",
   "metadata": {},
   "source": [
    "Poner una **'f'** delante de un string le indica a python que queremos meter variables o elementos que no son string dentro de la propia string.\n",
    "Es una manera excelente (y elegante) de generar **strings dinámicas**"
   ]
  },
  {
   "cell_type": "code",
   "execution_count": 2,
   "metadata": {},
   "outputs": [
    {
     "name": "stdout",
     "output_type": "stream",
     "text": [
      "a es: 1 b es: hola a mas 1 es: 2\n"
     ]
    }
   ],
   "source": [
    "a = 1\n",
    "b = 'hola'\n",
    "print(f'a es: {a} b es: {b} a mas 1 es: {a+1}') # EL código que está dentro de las llaves se ejecuta. Se puede incluso llamar a una función."
   ]
  },
  {
   "cell_type": "code",
   "execution_count": 4,
   "metadata": {},
   "outputs": [
    {
     "data": {
      "text/plain": [
       "'Buenos dias'"
      ]
     },
     "execution_count": 4,
     "metadata": {},
     "output_type": "execute_result"
    }
   ],
   "source": [
    "# para concatenar strings podemos usar +\n",
    "string_1 = 'Buenos '\n",
    "string_2 = 'dias'\n",
    "string_1 + string_2"
   ]
  },
  {
   "cell_type": "markdown",
   "metadata": {},
   "source": [
    "- Los strings tienen funciones propias (métodos) que nos pueden facilitar mucho las cosas, se pueden consultar [aquí](https://www.w3schools.com/python/python_ref_string.asp)\n",
    "\n",
    "|Médodos|Descripción|\n",
    "|----|---|\n",
    "``` <str>  = <str>.strip() ``` |  Elimina espacios vacíos antes y después del texto.\n",
    "```  <str>  = <str>.strip('<chars>') ```             | Elimina los caracteres que indiques que estén en los extremos.\n",
    "``` <list> = <str>.split()  ```                     | Separa el string e una lista de strings, uno por cada elemento separado por un espacio.\n",
    "``` <list> = <str>.split(sep=None) ``` | Igual que el anterior, pero en vez de con el espacio con cualquier caracter que indiques.\n",
    "``` <str>  = <str>.join(<collection>)  ```          | Une strings, pero las señala añadiendo el separador que indiques.\n",
    "``` <str>  = <str>.replace(old, new [, count]) ```  | Reemplaza elementos *'old'* por *'new'* hasta un máximo de *'count'* veces.\n",
    "``` <bool> = <str>.startswith(<sub_str>)  ```       | Devuelve **TRUE** si el string empieza por el string indicado.\n",
    "``` <bool> = <str>.endswith(<sub_str>)```           | Igual que el anterior pero al final del string.\n",
    "``` <int>  = <str>.index(<sub_str>) ```             | Te devuelve la posición del primer caracter que coincide con la string que proporciones.\n",
    "``` <bool> = <str>.isnumeric()   ```                | Devuelve **TRUE** si el string solo contiene caracteres numéricos.\n",
    "``` <list> = textwrap.wrap(<str>, width) ```        | Divide un string en lineas (filas) para una lectura más sencillas"
   ]
  },
  {
   "cell_type": "code",
   "execution_count": 21,
   "metadata": {},
   "outputs": [],
   "source": [
    "s=\"hola mUNDo\""
   ]
  },
  {
   "cell_type": "code",
   "execution_count": 22,
   "metadata": {},
   "outputs": [
    {
     "data": {
      "text/plain": [
       "'Hola mundo'"
      ]
     },
     "execution_count": 22,
     "metadata": {},
     "output_type": "execute_result"
    }
   ],
   "source": [
    "s.capitalize()"
   ]
  },
  {
   "cell_type": "markdown",
   "metadata": {},
   "source": [
    "Aquí acabamos de descubrir los métodos, que es cuando llamamos a una funcion propia de un objeto"
   ]
  },
  {
   "cell_type": "code",
   "execution_count": 23,
   "metadata": {},
   "outputs": [
    {
     "name": "stdout",
     "output_type": "stream",
     "text": [
      "hola mUNDo\n"
     ]
    }
   ],
   "source": [
    "s.capitalize() # esto es metodo y se llama con . es una funcion propia del objeto\n",
    "print(s) # esto es una funcion del lenguaje, por eso la llamamos metiendo la variable dentro"
   ]
  },
  {
   "cell_type": "code",
   "execution_count": 24,
   "metadata": {},
   "outputs": [
    {
     "data": {
      "text/plain": [
       "'HOLA MUNDO'"
      ]
     },
     "execution_count": 24,
     "metadata": {},
     "output_type": "execute_result"
    }
   ],
   "source": [
    "s.upper()"
   ]
  },
  {
   "cell_type": "code",
   "execution_count": 25,
   "metadata": {},
   "outputs": [
    {
     "data": {
      "text/plain": [
       "'hola mundo'"
      ]
     },
     "execution_count": 25,
     "metadata": {},
     "output_type": "execute_result"
    }
   ],
   "source": [
    "s.lower()"
   ]
  },
  {
   "cell_type": "code",
   "execution_count": 28,
   "metadata": {},
   "outputs": [
    {
     "data": {
      "text/plain": [
       "'Hola Clase'"
      ]
     },
     "execution_count": 28,
     "metadata": {},
     "output_type": "execute_result"
    }
   ],
   "source": [
    "\"Hola Mundo\".replace(\"Mundo\", \"Clase\")"
   ]
  },
  {
   "cell_type": "code",
   "execution_count": 29,
   "metadata": {},
   "outputs": [
    {
     "data": {
      "text/plain": [
       "'hola mUNDohola mUNDohola mUNDohola mUNDohola mUNDo'"
      ]
     },
     "execution_count": 29,
     "metadata": {},
     "output_type": "execute_result"
    }
   ],
   "source": [
    "s*5"
   ]
  },
  {
   "cell_type": "code",
   "execution_count": 30,
   "metadata": {},
   "outputs": [
    {
     "data": {
      "text/plain": [
       "\"La longitud de 'hola mUNDo' es 10\""
      ]
     },
     "execution_count": 30,
     "metadata": {},
     "output_type": "execute_result"
    }
   ],
   "source": [
    "f\"La longitud de '{s}' es {len(s)}\""
   ]
  },
  {
   "cell_type": "code",
   "execution_count": 33,
   "metadata": {},
   "outputs": [
    {
     "data": {
      "text/plain": [
       "'Hay 2 o pero solo 1 hola en hola mUNDo'"
      ]
     },
     "execution_count": 33,
     "metadata": {},
     "output_type": "execute_result"
    }
   ],
   "source": [
    "f\"Hay {s.count('o')} o pero solo {s.count('hola')} hola en {s}\""
   ]
  },
  {
   "cell_type": "markdown",
   "metadata": {},
   "source": [
    "## String slicing\n",
    "- Los strings se pueden indexar usando corchetes. \n",
    "- Los índices empiezan por cero en Python.\n",
    "- **len()** nos da la longitud."
   ]
  },
  {
   "cell_type": "code",
   "execution_count": 35,
   "metadata": {},
   "outputs": [],
   "source": [
    "s = '123456789'"
   ]
  },
  {
   "cell_type": "code",
   "execution_count": 36,
   "metadata": {},
   "outputs": [
    {
     "data": {
      "text/plain": [
       "9"
      ]
     },
     "execution_count": 36,
     "metadata": {},
     "output_type": "execute_result"
    }
   ],
   "source": [
    "len(s)"
   ]
  },
  {
   "cell_type": "code",
   "execution_count": 37,
   "metadata": {},
   "outputs": [
    {
     "data": {
      "text/plain": [
       "'1'"
      ]
     },
     "execution_count": 37,
     "metadata": {},
     "output_type": "execute_result"
    }
   ],
   "source": [
    "# primer caracter\n",
    "s[0]"
   ]
  },
  {
   "cell_type": "code",
   "execution_count": 39,
   "metadata": {},
   "outputs": [
    {
     "data": {
      "text/plain": [
       "'9'"
      ]
     },
     "execution_count": 39,
     "metadata": {},
     "output_type": "execute_result"
    }
   ],
   "source": [
    "# ultimo caracter\n",
    "s[8] # no puede ser 9 ya que empieza en 0 , por tanto llega a len(s)-1\n",
    "s[-1]"
   ]
  },
  {
   "cell_type": "code",
   "execution_count": 42,
   "metadata": {},
   "outputs": [
    {
     "data": {
      "text/plain": [
       "'123'"
      ]
     },
     "execution_count": 42,
     "metadata": {},
     "output_type": "execute_result"
    }
   ],
   "source": [
    "# podemos coger los primeros 3\n",
    "s[0:3] # va desde la posicion 0 hasta la 3 sin incluir la 3"
   ]
  },
  {
   "cell_type": "code",
   "execution_count": 43,
   "metadata": {},
   "outputs": [
    {
     "data": {
      "text/plain": [
       "'12345'"
      ]
     },
     "execution_count": 43,
     "metadata": {},
     "output_type": "execute_result"
    }
   ],
   "source": [
    "# podemos imprimir hasta el 5º caracter\n",
    "s[:5]"
   ]
  },
  {
   "cell_type": "code",
   "execution_count": 44,
   "metadata": {},
   "outputs": [
    {
     "data": {
      "text/plain": [
       "'789'"
      ]
     },
     "execution_count": 44,
     "metadata": {},
     "output_type": "execute_result"
    }
   ],
   "source": [
    "# los ultimos 3\n",
    "s[-3:]"
   ]
  },
  {
   "cell_type": "code",
   "execution_count": 45,
   "metadata": {},
   "outputs": [
    {
     "data": {
      "text/plain": [
       "'123456789'"
      ]
     },
     "execution_count": 45,
     "metadata": {},
     "output_type": "execute_result"
    }
   ],
   "source": [
    "# todos\n",
    "s[:]"
   ]
  },
  {
   "cell_type": "markdown",
   "metadata": {},
   "source": [
    "- Podemos pasar un tercer elmento para ir extrayendo los elementos especificando el paso.\n",
    "- **string[start:end:step]**"
   ]
  },
  {
   "cell_type": "code",
   "execution_count": 47,
   "metadata": {},
   "outputs": [
    {
     "data": {
      "text/plain": [
       "'357'"
      ]
     },
     "execution_count": 47,
     "metadata": {},
     "output_type": "execute_result"
    }
   ],
   "source": [
    "s[2:-1:2] # Del tercer elemento, hasta el último (no incluído), de dos en dos"
   ]
  },
  {
   "cell_type": "code",
   "execution_count": 48,
   "metadata": {},
   "outputs": [
    {
     "data": {
      "text/plain": [
       "'13579'"
      ]
     },
     "execution_count": 48,
     "metadata": {},
     "output_type": "execute_result"
    }
   ],
   "source": [
    "s[::2] # Todos los elementos, de dos en dos"
   ]
  },
  {
   "cell_type": "code",
   "execution_count": 49,
   "metadata": {},
   "outputs": [
    {
     "data": {
      "text/plain": [
       "'987654321'"
      ]
     },
     "execution_count": 49,
     "metadata": {},
     "output_type": "execute_result"
    }
   ],
   "source": [
    "s[::-1] # Todos los elementos, invirtiendo el órden"
   ]
  },
  {
   "cell_type": "markdown",
   "metadata": {},
   "source": [
    "# Ejercicios"
   ]
  },
  {
   "cell_type": "code",
   "execution_count": null,
   "metadata": {},
   "outputs": [],
   "source": [
    "x = y = 'holi'\n",
    "x += ' que tal'\n",
    "print(x, y)"
   ]
  },
  {
   "cell_type": "code",
   "execution_count": 1,
   "metadata": {},
   "outputs": [],
   "source": [
    "s = \"Lorem Ipsum is simply dummy text of the printing and typesetting industry.\\\n",
    "     Lorem Ipsum has been the industry's standard dummy text ever since the 1500s,\\\n",
    "     when an unknown printer took a galley of type and scrambled it to make a type specimen book.\\\n",
    "     It has survived not only five centuries, but also the leap into electronic typesetting, remaining essentially unchanged.\\\n",
    "     It was popularised in the 1960s with the release of Letraset sheets containing Lorem Ipsum passages,\\\n",
    "     and more recently with desktop publishing software like Aldus PageMaker including versions of Lorem Ipsum\""
   ]
  },
  {
   "cell_type": "markdown",
   "metadata": {},
   "source": [
    "**1** Guarda, en una nueva variable, la frase en mayúsculas, y cuenta el número de caracteres que tiene."
   ]
  },
  {
   "cell_type": "code",
   "execution_count": 2,
   "metadata": {},
   "outputs": [
    {
     "name": "stdout",
     "output_type": "stream",
     "text": [
      "El texto tiene 593 caracteres\n"
     ]
    }
   ],
   "source": []
  },
  {
   "cell_type": "markdown",
   "metadata": {},
   "source": [
    "**2** Separa la frase por palabras."
   ]
  },
  {
   "cell_type": "code",
   "execution_count": 6,
   "metadata": {},
   "outputs": [
    {
     "data": {
      "text/plain": [
       "['Lorem',\n",
       " 'Ipsum',\n",
       " 'is',\n",
       " 'simply',\n",
       " 'dummy',\n",
       " 'text',\n",
       " 'of',\n",
       " 'the',\n",
       " 'printing',\n",
       " 'and',\n",
       " 'typesetting',\n",
       " 'industry.',\n",
       " '',\n",
       " '',\n",
       " '',\n",
       " '',\n",
       " 'Lorem',\n",
       " 'Ipsum',\n",
       " 'has',\n",
       " 'been',\n",
       " 'the',\n",
       " \"industry's\",\n",
       " 'standard',\n",
       " 'dummy',\n",
       " 'text',\n",
       " 'ever',\n",
       " 'since',\n",
       " 'the',\n",
       " '1500s,',\n",
       " '',\n",
       " '',\n",
       " '',\n",
       " '',\n",
       " 'when',\n",
       " 'an',\n",
       " 'unknown',\n",
       " 'printer',\n",
       " 'took',\n",
       " 'a',\n",
       " 'galley',\n",
       " 'of',\n",
       " 'type',\n",
       " 'and',\n",
       " 'scrambled',\n",
       " 'it',\n",
       " 'to',\n",
       " 'make',\n",
       " 'a',\n",
       " 'type',\n",
       " 'specimen',\n",
       " 'book.',\n",
       " '',\n",
       " '',\n",
       " '',\n",
       " '',\n",
       " 'It',\n",
       " 'has',\n",
       " 'survived',\n",
       " 'not',\n",
       " 'only',\n",
       " 'five',\n",
       " 'centuries,',\n",
       " 'but',\n",
       " 'also',\n",
       " 'the',\n",
       " 'leap',\n",
       " 'into',\n",
       " 'electronic',\n",
       " 'typesetting,',\n",
       " 'remaining',\n",
       " 'essentially',\n",
       " 'unchanged.',\n",
       " '',\n",
       " '',\n",
       " '',\n",
       " '',\n",
       " 'It',\n",
       " 'was',\n",
       " 'popularised',\n",
       " 'in',\n",
       " 'the',\n",
       " '1960s',\n",
       " 'with',\n",
       " 'the',\n",
       " 'release',\n",
       " 'of',\n",
       " 'Letraset',\n",
       " 'sheets',\n",
       " 'containing',\n",
       " 'Lorem',\n",
       " 'Ipsum',\n",
       " 'passages,',\n",
       " '',\n",
       " '',\n",
       " '',\n",
       " '',\n",
       " 'and',\n",
       " 'more',\n",
       " 'recently',\n",
       " 'with',\n",
       " 'desktop',\n",
       " 'publishing',\n",
       " 'software',\n",
       " 'like',\n",
       " 'Aldus',\n",
       " 'PageMaker',\n",
       " 'including',\n",
       " 'versions',\n",
       " 'of',\n",
       " 'Lorem',\n",
       " 'Ipsum']"
      ]
     },
     "execution_count": 6,
     "metadata": {},
     "output_type": "execute_result"
    }
   ],
   "source": []
  },
  {
   "cell_type": "markdown",
   "metadata": {},
   "source": [
    "**3** Sustituye \"Lorem Ipsum\" por \"Pepito Perez\""
   ]
  },
  {
   "cell_type": "code",
   "execution_count": 8,
   "metadata": {},
   "outputs": [
    {
     "data": {
      "text/plain": [
       "\"Pepito Perez is simply dummy text of the printing and typesetting industry.     Pepito Perez has been the industry's standard dummy text ever since the 1500s,     when an unknown printer took a galley of type and scrambled it to make a type specimen book.     It has survived not only five centuries, but also the leap into electronic typesetting, remaining essentially unchanged.     It was popularised in the 1960s with the release of Letraset sheets containing Pepito Perez passages,     and more recently with desktop publishing software like Aldus PageMaker including versions of Pepito Perez\""
      ]
     },
     "execution_count": 8,
     "metadata": {},
     "output_type": "execute_result"
    }
   ],
   "source": []
  }
 ],
 "metadata": {
  "kernelspec": {
   "display_name": "Python 3.9.7 ('base')",
   "language": "python",
   "name": "python3"
  },
  "language_info": {
   "codemirror_mode": {
    "name": "ipython",
    "version": 3
   },
   "file_extension": ".py",
   "mimetype": "text/x-python",
   "name": "python",
   "nbconvert_exporter": "python",
   "pygments_lexer": "ipython3",
   "version": "3.9.7"
  },
  "orig_nbformat": 4,
  "vscode": {
   "interpreter": {
    "hash": "f789d4952d0855305cbd8e399fddb1005c5f0b25785059a2a269151430d7bb7e"
   }
  }
 },
 "nbformat": 4,
 "nbformat_minor": 2
}
