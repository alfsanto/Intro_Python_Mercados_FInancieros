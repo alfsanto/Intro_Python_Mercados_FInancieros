{
 "cells": [
  {
   "cell_type": "markdown",
   "metadata": {},
   "source": [
    "# Listas"
   ]
  },
  {
   "cell_type": "markdown",
   "metadata": {},
   "source": [
    "<u>**Una lista es una unión consecutiva y ordenada de objetos.**</u>\n",
    "\n",
    "*Recordemos: un objeto puede ser cualquier cosa, por lo que una lista podría guardar un string en la primera posición, luego un número (int o float), e **incluso otras listas**!*\n",
    "* Las listas son de las estructuras más usadas\n",
    "\n",
    "* Se crean usando **[]**\n",
    "\n",
    "* Permiten guardar más de un valor\n",
    "\n",
    "* Se puede acceder a los datos mediante un índice, muy parecido a los strings"
   ]
  },
  {
   "cell_type": "code",
   "execution_count": 1,
   "metadata": {},
   "outputs": [
    {
     "data": {
      "text/plain": [
       "list"
      ]
     },
     "execution_count": 1,
     "metadata": {},
     "output_type": "execute_result"
    }
   ],
   "source": [
    "# podemos declarar una lista de la siguiente manera\n",
    "a = []\n",
    "type(a)"
   ]
  },
  {
   "cell_type": "code",
   "execution_count": 2,
   "metadata": {},
   "outputs": [
    {
     "data": {
      "text/plain": [
       "list"
      ]
     },
     "execution_count": 2,
     "metadata": {},
     "output_type": "execute_result"
    }
   ],
   "source": [
    "# también podemos usar la función list()\n",
    "a=list()\n",
    "type(a)"
   ]
  },
  {
   "cell_type": "markdown",
   "metadata": {},
   "source": [
    "- Se pueden meter los datos de manera manual al crear la propia lista"
   ]
  },
  {
   "cell_type": "code",
   "execution_count": 3,
   "metadata": {},
   "outputs": [],
   "source": [
    "x = ['perro','gato'] # los distintos elementos van separados por comas"
   ]
  },
  {
   "cell_type": "code",
   "execution_count": 4,
   "metadata": {},
   "outputs": [
    {
     "data": {
      "text/plain": [
       "['perro', 'gato']"
      ]
     },
     "execution_count": 4,
     "metadata": {},
     "output_type": "execute_result"
    }
   ],
   "source": [
    "x"
   ]
  },
  {
   "cell_type": "markdown",
   "metadata": {},
   "source": [
    "## ¿Cómo accedemos a los datos que tiene dentro?\n",
    "\n",
    "- De la misma manera que lo haciamos en los strings"
   ]
  },
  {
   "cell_type": "code",
   "execution_count": 5,
   "metadata": {},
   "outputs": [
    {
     "data": {
      "text/plain": [
       "'perro'"
      ]
     },
     "execution_count": 5,
     "metadata": {},
     "output_type": "execute_result"
    }
   ],
   "source": [
    "x[0]#también comienza por 0"
   ]
  },
  {
   "cell_type": "code",
   "execution_count": 6,
   "metadata": {},
   "outputs": [
    {
     "data": {
      "text/plain": [
       "'gato'"
      ]
     },
     "execution_count": 6,
     "metadata": {},
     "output_type": "execute_result"
    }
   ],
   "source": [
    "x[-1]"
   ]
  },
  {
   "cell_type": "markdown",
   "metadata": {},
   "source": [
    "- Los tipos de datos que tienen dentro una lista no tienen por que ser iguales, pueden ser incluso otra lista"
   ]
  },
  {
   "cell_type": "code",
   "execution_count": 7,
   "metadata": {},
   "outputs": [],
   "source": [
    "y = [1,2,3,4,5,6,7]"
   ]
  },
  {
   "cell_type": "code",
   "execution_count": 8,
   "metadata": {},
   "outputs": [
    {
     "name": "stdout",
     "output_type": "stream",
     "text": [
      "[['perro', 'gato'], [1, 2, 3, 4, 5, 6, 7]]\n"
     ]
    }
   ],
   "source": [
    "z = [x,y]\n",
    "print(x)\n",
    "print(y)\n",
    "print(z)"
   ]
  },
  {
   "cell_type": "code",
   "execution_count": 9,
   "metadata": {},
   "outputs": [
    {
     "data": {
      "text/plain": [
       "['perro', 'gato']"
      ]
     },
     "execution_count": 9,
     "metadata": {},
     "output_type": "execute_result"
    }
   ],
   "source": [
    "z[0]"
   ]
  },
  {
   "cell_type": "code",
   "execution_count": 10,
   "metadata": {},
   "outputs": [
    {
     "data": {
      "text/plain": [
       "[1, 2, 3, 4, 5]"
      ]
     },
     "execution_count": 10,
     "metadata": {},
     "output_type": "execute_result"
    }
   ],
   "source": [
    "z[1][:5] # primero accedemos a lista dentro de la lista, y después seleccionamos los elementos de la segunda lista "
   ]
  },
  {
   "cell_type": "markdown",
   "metadata": {},
   "source": [
    "## Range function\n",
    "\n",
    "- La función **range()** sirve para generar listas de números enteros.\n",
    "\n",
    "* range(n) =  0, 1, ..., n-1     Desde 0 **hasta n-1**\n",
    "\n",
    "* range(m,n)= m, m+1, ..., n-1   Desde m **hasta n-1**\n",
    "\n",
    "* range(m,n,s)= m, m+s, m+2s, ..., m + ((n-m-1)//s) * s   Desde m **hasta n-1** de s en s\n",
    "\n",
    "```python\n",
    "<range> = range(to_exclusive)\n",
    "<range> = range(from_inclusive, to_exclusive)\n",
    "<range> = range(from_inclusive, to_exclusive, ±step_size)\n",
    "```"
   ]
  },
  {
   "cell_type": "code",
   "execution_count": 16,
   "metadata": {},
   "outputs": [
    {
     "data": {
      "text/plain": [
       "range(0, 10)"
      ]
     },
     "execution_count": 16,
     "metadata": {},
     "output_type": "execute_result"
    }
   ],
   "source": [
    "range(10) # Indica el rango, pero no lo crea en memoria"
   ]
  },
  {
   "cell_type": "code",
   "execution_count": 17,
   "metadata": {},
   "outputs": [
    {
     "data": {
      "text/plain": [
       "[0, 1, 2, 3, 4, 5, 6, 7, 8, 9]"
      ]
     },
     "execution_count": 17,
     "metadata": {},
     "output_type": "execute_result"
    }
   ],
   "source": [
    "list(range(10)) # Si lo convertimos a una lista, se crea en memoria"
   ]
  },
  {
   "cell_type": "code",
   "execution_count": 19,
   "metadata": {},
   "outputs": [
    {
     "data": {
      "text/plain": [
       "[0, 10, 20, 30, 40, 50, 60, 70, 80, 90]"
      ]
     },
     "execution_count": 19,
     "metadata": {},
     "output_type": "execute_result"
    }
   ],
   "source": [
    "list(range(0, 100, 10))"
   ]
  },
  {
   "cell_type": "markdown",
   "metadata": {},
   "source": [
    "- Al igual que en los strings las listas tienen funciones incorporadas, algunas que nos pueden resultar útiles son:\n",
    "\n",
    "|Métodos de las listas|Notas|\n",
    "|---|----|\n",
    "|```<list> = <list>[from_inclusive : to_exclusive : ±step_size]```|      Indexación |\n",
    "|```<list>.append(<el>)```      |       Añade un elemento al final|\n",
    "|```<list>.extend(<collection>)```|     Une dos listas sin crear una nested list|\n",
    "|```<list>.sort()```|      Ordena de manera ascendente| \n",
    "|```<list>.reverse()```|      Invierte el orden de los elementos |\n",
    "|```<list> = sorted(<collection>)```|      Devuelve una copia ordenada|\n",
    "|```<iter> = reversed(<list>)```|     Devuelve una copia invertida|\n",
    "|```sum_of_elements  = sum(<collection>)```|      Suma los elementos cuando son numéricos|\n",
    "|```index = <list>.index(<el>)```|      Devuelve el índice del elemento en la lista.|\n",
    "|```<list>.insert(index, <el>)```|      Inserta un elemento y mueve el resto a la derecha.|\n",
    "|```<el> = <list>.pop([index])```|      Devuelve el último elemento de la lista y lo borra.|\n",
    "|```<list>.remove(<el>)```|        Borra la primera coincidencia o eleva un error.|\n",
    "|```<list>.clear()```|                  Borra todos los elementos.|\n",
    "\n",
    "Se puede leer más [aquí](https://www.softwaretestinghelp.com/python-list-functions/)"
   ]
  },
  {
   "cell_type": "code",
   "execution_count": 21,
   "metadata": {},
   "outputs": [
    {
     "data": {
      "text/plain": [
       "11"
      ]
     },
     "execution_count": 21,
     "metadata": {},
     "output_type": "execute_result"
    }
   ],
   "source": [
    "num = list(range(0,21,2))\n",
    "len(num) # nos dice la longitud de la lista"
   ]
  },
  {
   "cell_type": "code",
   "execution_count": 22,
   "metadata": {},
   "outputs": [
    {
     "data": {
      "text/plain": [
       "[0, 2, 4, 6, 8, 10, 12, 14, 16, 18, 20]"
      ]
     },
     "execution_count": 22,
     "metadata": {},
     "output_type": "execute_result"
    }
   ],
   "source": [
    "num"
   ]
  },
  {
   "cell_type": "code",
   "execution_count": 23,
   "metadata": {},
   "outputs": [
    {
     "name": "stdout",
     "output_type": "stream",
     "text": [
      "min = 0   max = 20   total = 110\n"
     ]
    }
   ],
   "source": [
    "print(\"min =\", min(num),\"  max =\", max(num), \"  total =\", sum(num))"
   ]
  },
  {
   "cell_type": "code",
   "execution_count": 24,
   "metadata": {},
   "outputs": [
    {
     "data": {
      "text/plain": [
       "[1, 2, 3, 9, 45, 65]"
      ]
     },
     "execution_count": 24,
     "metadata": {},
     "output_type": "execute_result"
    }
   ],
   "source": [
    "# podemos concatenar 2 listas usando el simbolo +\n",
    "[1, 2, 3] + [9, 45, 65]"
   ]
  },
  {
   "cell_type": "markdown",
   "metadata": {},
   "source": [
    "## Operadores de referencia\n",
    "\n",
    "- Para saber si un elemento está en una lista podemos usar el operador **in**"
   ]
  },
  {
   "cell_type": "code",
   "execution_count": 1,
   "metadata": {},
   "outputs": [],
   "source": [
    "names = ['pueblo', 'ciudad', 'autobus', 'coche']"
   ]
  },
  {
   "cell_type": "code",
   "execution_count": 2,
   "metadata": {},
   "outputs": [
    {
     "data": {
      "text/plain": [
       "True"
      ]
     },
     "execution_count": 2,
     "metadata": {},
     "output_type": "execute_result"
    }
   ],
   "source": [
    "'coche' in names"
   ]
  },
  {
   "cell_type": "code",
   "execution_count": 3,
   "metadata": {},
   "outputs": [
    {
     "data": {
      "text/plain": [
       "False"
      ]
     },
     "execution_count": 3,
     "metadata": {},
     "output_type": "execute_result"
    }
   ],
   "source": [
    "'Coche' in names"
   ]
  },
  {
   "cell_type": "code",
   "execution_count": 4,
   "metadata": {},
   "outputs": [
    {
     "data": {
      "text/plain": [
       "True"
      ]
     },
     "execution_count": 4,
     "metadata": {},
     "output_type": "execute_result"
    }
   ],
   "source": [
    "'Coche'.lower() in names"
   ]
  },
  {
   "cell_type": "markdown",
   "metadata": {},
   "source": [
    "- **list.sort()** ordena la lista de manera ascendente.\n",
    "\n",
    "- **list.sort(reverse=True)** ordena la lista de manera descendente.\n",
    "\n",
    "- **list.sort(key=fun)** se puede pasar una función para ordenar.\n",
    "\n",
    "- **IMPORTANTE**: La operación es *inplace*,  la función no devuelve nada, la lista se ordena internamente.\n",
    "    - Por norma general se considera poco recomendable usar 'inplace'.\n",
    "- Para obtener una COPIA ordenanda usar **sorted(list)**, también con parámetros **key** y **reverse**."
   ]
  },
  {
   "cell_type": "code",
   "execution_count": 37,
   "metadata": {},
   "outputs": [
    {
     "data": {
      "text/plain": [
       "['az', 'bzaa', 'ds', 'klm', 'nc', 'z', 'zz']"
      ]
     },
     "execution_count": 37,
     "metadata": {},
     "output_type": "execute_result"
    }
   ],
   "source": [
    "mlist.sort()\n",
    "mlist"
   ]
  },
  {
   "cell_type": "code",
   "execution_count": 40,
   "metadata": {},
   "outputs": [
    {
     "name": "stdout",
     "output_type": "stream",
     "text": [
      "['zz', 'z', 'nc', 'klm', 'ds', 'bzaa', 'az']\n",
      "['z', 'zz', 'nc', 'ds', 'az', 'klm', 'bzaa']\n"
     ]
    }
   ],
   "source": [
    "mlist.sort(reverse=True)\n",
    "print(mlist)\n",
    "mlist.sort(key=len)\n",
    "print(mlist)\n"
   ]
  },
  {
   "cell_type": "markdown",
   "metadata": {},
   "source": [
    "- **list.append(list)** para añadir un elemento al final de la lista."
   ]
  },
  {
   "cell_type": "code",
   "execution_count": 43,
   "metadata": {},
   "outputs": [
    {
     "name": "stdout",
     "output_type": "stream",
     "text": [
      "[8, 6, 4, 5, 9, 0, 1, 465646464]\n"
     ]
    }
   ],
   "source": [
    "lst = [8,6,4,5,9,0,1]\n",
    "lst.append(465646464)\n",
    "print(lst)"
   ]
  },
  {
   "cell_type": "markdown",
   "metadata": {},
   "source": [
    "- Añadir una lista a otra con *append* crea una nested list (lista anidada).\n",
    "- Para evitar este comportamiente usar  **list.extend(list)** "
   ]
  },
  {
   "cell_type": "code",
   "execution_count": 51,
   "metadata": {},
   "outputs": [],
   "source": [
    "list_1 = [1, 1, 4, 8, 7]\n",
    "list_2 = [10, 11, 12]"
   ]
  },
  {
   "cell_type": "code",
   "execution_count": 49,
   "metadata": {},
   "outputs": [
    {
     "data": {
      "text/plain": [
       "[1, 1, 4, 8, 7, [10, 11, 12]]"
      ]
     },
     "execution_count": 49,
     "metadata": {},
     "output_type": "execute_result"
    }
   ],
   "source": [
    "list_1.append(list_2)\n",
    "list_1"
   ]
  },
  {
   "cell_type": "code",
   "execution_count": 53,
   "metadata": {},
   "outputs": [],
   "source": [
    "list_1 = [1, 1, 4, 8, 7]\n",
    "list_2 = [10, 11, 12]"
   ]
  },
  {
   "cell_type": "code",
   "execution_count": 54,
   "metadata": {},
   "outputs": [
    {
     "data": {
      "text/plain": [
       "[1, 1, 4, 8, 7, 10, 11, 12]"
      ]
     },
     "execution_count": 54,
     "metadata": {},
     "output_type": "execute_result"
    }
   ],
   "source": [
    "list_1.extend(list_2)\n",
    "list_1"
   ]
  },
  {
   "cell_type": "markdown",
   "metadata": {},
   "source": [
    "- **list.pop()** devuelve el último elemento de la lista\n",
    "- También lo elimina de la lista\n",
    "- Se puede especificar un ínidice con **list.pop(index)**"
   ]
  },
  {
   "cell_type": "code",
   "execution_count": 55,
   "metadata": {},
   "outputs": [
    {
     "data": {
      "text/plain": [
       "12"
      ]
     },
     "execution_count": 55,
     "metadata": {},
     "output_type": "execute_result"
    }
   ],
   "source": [
    "list_1.pop()"
   ]
  },
  {
   "cell_type": "code",
   "execution_count": 56,
   "metadata": {},
   "outputs": [
    {
     "data": {
      "text/plain": [
       "[1, 1, 4, 8, 7, 10, 11]"
      ]
     },
     "execution_count": 56,
     "metadata": {},
     "output_type": "execute_result"
    }
   ],
   "source": [
    "list_1"
   ]
  },
  {
   "cell_type": "markdown",
   "metadata": {},
   "source": [
    "## Copia de listas\n",
    "- Cuando se hace una asignación de una lista a otra variable **NO** implica que se realice una copia de la misma\n",
    "- Esa variable sería una **referencia** a la lista\n",
    "    - *Recordemos: esto no pasaba con las variables como int, string o float*"
   ]
  },
  {
   "cell_type": "code",
   "execution_count": 59,
   "metadata": {},
   "outputs": [],
   "source": [
    "list_a = [1,5,4,9,8,7,10]\n",
    "list_b = list_a"
   ]
  },
  {
   "cell_type": "code",
   "execution_count": 60,
   "metadata": {},
   "outputs": [
    {
     "name": "stdout",
     "output_type": "stream",
     "text": [
      "[1, 5, 4, 9, 8, 7, 10]\n",
      "[1, 5, 4, 9, 8, 7, 10]\n",
      "[1, 1, 4, 9, 8, 7, 10]\n",
      "[1, 1, 4, 9, 8, 7, 10]\n"
     ]
    }
   ],
   "source": [
    "print(list_a)\n",
    "print(list_b)\n",
    "list_a[1] = 1\n",
    "print(list_a)\n",
    "print(list_b)"
   ]
  },
  {
   "cell_type": "markdown",
   "metadata": {},
   "source": [
    "Como se puede ver ambas variables cambian, esto es debido a que hacen referencia a la misma lista"
   ]
  },
  {
   "cell_type": "code",
   "execution_count": 61,
   "metadata": {},
   "outputs": [
    {
     "name": "stdout",
     "output_type": "stream",
     "text": [
      "A = [1, 1, 4, 7, 8, 9, 9]\n",
      "B = [1, 1, 4, 7, 8, 9, 9]\n"
     ]
    }
   ],
   "source": [
    "# se puede ver que ocurre lo mismo con sort\n",
    "list_a.sort()\n",
    "list_a.pop()\n",
    "list_a.append(9)\n",
    "print(f\"A = {list_a}\")\n",
    "print(f\"B = {list_b}\")"
   ]
  },
  {
   "cell_type": "markdown",
   "metadata": {},
   "source": [
    "## Ejercicios"
   ]
  },
  {
   "cell_type": "markdown",
   "metadata": {},
   "source": [
    "**1** Haz una lista con tickers 'GOOG', 'AAPL', 'FB', 'AMZN', 'MSFT' y asignala a la variable tickers."
   ]
  },
  {
   "cell_type": "code",
   "execution_count": 1,
   "metadata": {},
   "outputs": [],
   "source": []
  },
  {
   "cell_type": "markdown",
   "metadata": {},
   "source": [
    "**2** Asigna la lista del ejercicio anterior a new_tickers. Cambia el primer elemento de new_tickers por otro. ¿Qué le ocurre a tickers?."
   ]
  },
  {
   "cell_type": "code",
   "execution_count": 2,
   "metadata": {},
   "outputs": [
    {
     "name": "stdout",
     "output_type": "stream",
     "text": [
      "['aaaaaaa', 'AAPL', 'FB', 'AMZN', 'MSFT']\n"
     ]
    }
   ],
   "source": []
  },
  {
   "cell_type": "markdown",
   "metadata": {},
   "source": [
    "**3** Crea una lista con los numeros impares del 1 al 50"
   ]
  },
  {
   "cell_type": "code",
   "execution_count": 6,
   "metadata": {},
   "outputs": [
    {
     "data": {
      "text/plain": [
       "[1,\n",
       " 3,\n",
       " 5,\n",
       " 7,\n",
       " 9,\n",
       " 11,\n",
       " 13,\n",
       " 15,\n",
       " 17,\n",
       " 19,\n",
       " 21,\n",
       " 23,\n",
       " 25,\n",
       " 27,\n",
       " 29,\n",
       " 31,\n",
       " 33,\n",
       " 35,\n",
       " 37,\n",
       " 39,\n",
       " 41,\n",
       " 43,\n",
       " 45,\n",
       " 47,\n",
       " 49]"
      ]
     },
     "execution_count": 6,
     "metadata": {},
     "output_type": "execute_result"
    }
   ],
   "source": []
  },
  {
   "cell_type": "markdown",
   "metadata": {},
   "source": [
    "**4** Construye una lista anidada que contenga la siguiente matriz:\n",
    "\n",
    "\\begin{bmatrix}\n",
    "    1 & .5 \\\\\n",
    "    .5 & 1\n",
    " \\end{bmatrix}"
   ]
  },
  {
   "cell_type": "code",
   "execution_count": 5,
   "metadata": {},
   "outputs": [],
   "source": []
  },
  {
   "cell_type": "code",
   "execution_count": null,
   "metadata": {},
   "outputs": [],
   "source": [
    "lista = ['G','u','i','l','l','e']\n",
    "lista.insert(100,'!')\n",
    "lista"
   ]
  },
  {
   "cell_type": "code",
   "execution_count": null,
   "metadata": {},
   "outputs": [],
   "source": [
    "x = 7,8,9\n",
    "sorted(x) == x"
   ]
  },
  {
   "cell_type": "code",
   "execution_count": null,
   "metadata": {},
   "outputs": [],
   "source": [
    "print(sorted([str(type('Python')),\n",
    "              str(type(42)),\n",
    "              str(type(True))]))"
   ]
  },
  {
   "cell_type": "code",
   "execution_count": null,
   "metadata": {},
   "outputs": [],
   "source": []
  }
 ],
 "metadata": {
  "kernelspec": {
   "display_name": "Python 3.9.7 ('base')",
   "language": "python",
   "name": "python3"
  },
  "language_info": {
   "codemirror_mode": {
    "name": "ipython",
    "version": 3
   },
   "file_extension": ".py",
   "mimetype": "text/x-python",
   "name": "python",
   "nbconvert_exporter": "python",
   "pygments_lexer": "ipython3",
   "version": "3.9.7"
  },
  "orig_nbformat": 4,
  "vscode": {
   "interpreter": {
    "hash": "f789d4952d0855305cbd8e399fddb1005c5f0b25785059a2a269151430d7bb7e"
   }
  }
 },
 "nbformat": 4,
 "nbformat_minor": 2
}
